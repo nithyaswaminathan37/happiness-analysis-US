{
 "cells": [
  {
   "cell_type": "markdown",
   "id": "56fcb71d",
   "metadata": {},
   "source": [
    "# U.S. Happiness Analysis\n",
    "\n",
    "Visualizing simulated happiness scores across U.S. states."
   ]
  },
  {
   "cell_type": "code",
   "execution_count": null,
   "id": "3ddcb46e",
   "metadata": {},
   "outputs": [],
   "source": [
    "import pandas as pd\n",
    "import matplotlib.pyplot as plt\n",
    "import seaborn as sns\n",
    "import plotly.express as px\n",
    "%matplotlib inline\n"
   ]
  },
  {
   "cell_type": "markdown",
   "id": "8c716b4f",
   "metadata": {},
   "source": [
    "## Load Happiness Data"
   ]
  },
  {
   "cell_type": "code",
   "execution_count": null,
   "id": "08ceee9f",
   "metadata": {},
   "outputs": [],
   "source": [
    "df = pd.read_csv(\"data/state_happiness.csv\")\n",
    "df.head()\n"
   ]
  },
  {
   "cell_type": "markdown",
   "id": "47ca1cea",
   "metadata": {},
   "source": [
    "## Bar Chart: Happiness Scores by State"
   ]
  },
  {
   "cell_type": "code",
   "execution_count": null,
   "id": "a84b6778",
   "metadata": {},
   "outputs": [],
   "source": [
    "plt.figure(figsize=(14, 8))\n",
    "sns.barplot(data=df.sort_values(\"Happiness_Score\", ascending=False),\n",
    "            y=\"State\", x=\"Happiness_Score\", palette=\"viridis\")\n",
    "plt.title(\"Simulated Happiness Scores by U.S. State\")\n",
    "plt.xlabel(\"Happiness Score\")\n",
    "plt.ylabel(\"State\")\n",
    "plt.tight_layout()\n",
    "plt.show()\n"
   ]
  },
  {
   "cell_type": "markdown",
   "id": "cb97a1de",
   "metadata": {},
   "source": [
    "## Choropleth Map: Happiness by State"
   ]
  },
  {
   "cell_type": "code",
   "execution_count": null,
   "id": "8078f826",
   "metadata": {},
   "outputs": [],
   "source": [
    "fig = px.choropleth(df, locations='State', locationmode='USA-states', scope='usa',\n",
    "                    color='Happiness_Score', title='Happiness by U.S. State',\n",
    "                    color_continuous_scale='Viridis')\n",
    "fig.show()\n"
   ]
  }
 ],
 "metadata": {},
 "nbformat": 4,
 "nbformat_minor": 5
}
