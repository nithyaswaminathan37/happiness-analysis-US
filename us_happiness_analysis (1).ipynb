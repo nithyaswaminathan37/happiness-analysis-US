{
 "cells": [
  {
   "cell_type": "markdown",
   "id": "363718b1",
   "metadata": {},
   "source": [
    "# U.S. State Happiness Analysis\n",
    "\n",
    "This notebook simulates and visualizes happiness scores across U.S. states."
   ]
  },
  {
   "cell_type": "code",
   "execution_count": null,
   "id": "97820abe",
   "metadata": {},
   "outputs": [],
   "source": [
    "import pandas as pd\n",
    "import matplotlib.pyplot as plt\n",
    "import seaborn as sns\n",
    "import plotly.express as px\n"
   ]
  },
  {
   "cell_type": "markdown",
   "id": "a05f4659",
   "metadata": {},
   "source": [
    "## Load Simulated Data"
   ]
  },
  {
   "cell_type": "code",
   "execution_count": null,
   "id": "cedfd17e",
   "metadata": {},
   "outputs": [],
   "source": [
    "df = pd.read_csv(\"data/state_happiness.csv\")\n",
    "df.head()\n"
   ]
  },
  {
   "cell_type": "markdown",
   "id": "dd214e53",
   "metadata": {},
   "source": [
    "## Bar Chart of Happiness Scores"
   ]
  },
  {
   "cell_type": "code",
   "execution_count": null,
   "id": "5814e918",
   "metadata": {},
   "outputs": [],
   "source": [
    "plt.figure(figsize=(14, 8))\n",
    "sns.barplot(data=df.sort_values(\"Happiness_Score\", ascending=False), y=\"State\", x=\"Happiness_Score\", palette=\"coolwarm\")\n",
    "plt.title(\"Simulated Happiness Scores by U.S. State\")\n",
    "plt.tight_layout()\n",
    "plt.show()\n"
   ]
  },
  {
   "cell_type": "markdown",
   "id": "3136b207",
   "metadata": {},
   "source": [
    "## Interactive Choropleth Map"
   ]
  },
  {
   "cell_type": "code",
   "execution_count": null,
   "id": "c710bfca",
   "metadata": {},
   "outputs": [],
   "source": [
    "fig = px.choropleth(df, locations='State', locationmode='USA-states', scope='usa',\n",
    "                    color='Happiness_Score', title='Happiness by U.S. State')\n",
    "fig.show()\n"
   ]
  }
 ],
 "metadata": {},
 "nbformat": 4,
 "nbformat_minor": 5
}
